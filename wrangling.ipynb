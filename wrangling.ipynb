{
 "cells": [
  {
   "cell_type": "code",
   "execution_count": 1,
   "id": "0e82c9ba-562a-40b6-9538-8f890d90f88f",
   "metadata": {},
   "outputs": [
    {
     "name": "stdout",
     "output_type": "stream",
     "text": [
      "        Date State Unemployment Rate\n",
      "0 1978-02-01   NSW               6.6\n",
      "1 1978-03-01   NSW               6.5\n",
      "2 1978-04-01   NSW               6.4\n",
      "3 1978-05-01   NSW               6.3\n",
      "4 1978-06-01   NSW               6.3\n"
     ]
    },
    {
     "name": "stderr",
     "output_type": "stream",
     "text": [
      "/var/folders/qd/69s8gt4d5rn66njn9cz1rb5r0000gn/T/ipykernel_43440/2258130083.py:33: SettingWithCopyWarning: \n",
      "A value is trying to be set on a copy of a slice from a DataFrame.\n",
      "Try using .loc[row_indexer,col_indexer] = value instead\n",
      "\n",
      "See the caveats in the documentation: https://pandas.pydata.org/pandas-docs/stable/user_guide/indexing.html#returning-a-view-versus-a-copy\n",
      "  df_cleaned['Date'] = pd.to_datetime(df_cleaned['Date'], format='%b-%Y', errors='coerce')\n"
     ]
    }
   ],
   "source": [
    "import pandas as pd\n",
    "\n",
    "def clean_and_reshape_unemployment_data(file_path):\n",
    "    # Load the CSV file\n",
    "    df = pd.read_csv(file_path)\n",
    "    \n",
    "    # Defining the list of the 7 states\n",
    "    state_list = ['New South Wales', 'Victoria', 'Queensland', 'South Australia', \n",
    "                  'Western Australia', 'Tasmania', 'Northern Territory']\n",
    "    \n",
    "    # Filter columns by checking for the specific states and \"Unemployment rate\" in the name\n",
    "    selected_cols = ['Unnamed: 0']  # Assuming 'Unnamed: 0' is the Date column\n",
    "    for state in state_list:\n",
    "        for col in df.columns:\n",
    "            if f'Unemployment rate ;  Persons ;  > {state} ;' in col and '.1' not in col and '.2' not in col:\n",
    "                selected_cols.append(col)\n",
    "    \n",
    "    # Select only the relevant columns\n",
    "    df_selected = df[selected_cols]\n",
    "    \n",
    "    # Rename the columns to more descriptive names\n",
    "    df_selected.columns = ['Date', 'NSW Unemployment Rate', 'VIC Unemployment Rate', \n",
    "                           'QLD Unemployment Rate', 'SA Unemployment Rate', \n",
    "                           'WA Unemployment Rate', 'TAS Unemployment Rate', \n",
    "                           'NT Unemployment Rate']\n",
    "\n",
    "    # Remove rows with specific keywords\n",
    "    rows_to_remove = ['Unit', 'Series Type', 'Data Type', 'Series Start', \n",
    "                      'Series End', 'No. Obs', 'Series ID']\n",
    "    df_cleaned = df_selected[~df_selected['Date'].isin(rows_to_remove)]\n",
    "    \n",
    "    # Convert 'Date' column into datetime format\n",
    "    df_cleaned['Date'] = pd.to_datetime(df_cleaned['Date'], format='%b-%Y', errors='coerce')\n",
    "\n",
    "    # Drop rows where the 'Date' conversion failed (NaT)\n",
    "    df_cleaned = df_cleaned.dropna(subset=['Date'])\n",
    "\n",
    "    # Reshape the data into long format\n",
    "    df_long = pd.melt(df_cleaned, id_vars=['Date'], \n",
    "                      var_name='State', \n",
    "                      value_name='Unemployment Rate')\n",
    "\n",
    "    # Clean the 'State' column (remove extra words)\n",
    "    df_long['State'] = df_long['State'].str.replace(' Unemployment Rate', '')\n",
    "    \n",
    "    # Remove any duplicate or redundant rows\n",
    "    df_long = df_long.drop_duplicates()\n",
    "\n",
    "    return df_long\n",
    "\n",
    "# Example usage\n",
    "file_path = 'data/unemploymentRateTimeSeries.csv'  # Replace with the actual file path\n",
    "reshaped_data = clean_and_reshape_unemployment_data(file_path)\n",
    "\n",
    "# Save the reshaped data to a new CSV file if needed\n",
    "reshaped_data.to_csv('data/unemploymentRateTimeSeries.csv', index=False)\n",
    "\n",
    "# Display the reshaped data\n",
    "print(reshaped_data.head())\n"
   ]
  },
  {
   "cell_type": "code",
   "execution_count": 9,
   "id": "07dd9075-c5e8-4b77-af4b-b0b5c58e32b2",
   "metadata": {},
   "outputs": [
    {
     "name": "stdout",
     "output_type": "stream",
     "text": [
      "   Date       NSW Unemployment Rate VIC Unemployment Rate  \\\n",
      "7  1978-02-01  6.6                   5.7                    \n",
      "8  1978-03-01  6.5                   5.7                    \n",
      "9  1978-04-01  6.4                   5.6                    \n",
      "10 1978-05-01  6.3                   5.6                    \n",
      "11 1978-06-01  6.3                   5.5                    \n",
      "\n",
      "   QLD Unemployment Rate SA Unemployment Rate WA Unemployment Rate  \\\n",
      "7   7.1                   6.5                  6.2                   \n",
      "8   7.1                   6.5                  6.2                   \n",
      "9   7.1                   6.6                  6.3                   \n",
      "10  7.1                   6.7                  6.4                   \n",
      "11  7.1                   6.9                  6.5                   \n",
      "\n",
      "   TAS Unemployment Rate NT Unemployment Rate  \n",
      "7   6.3                   6.4                  \n",
      "8   6.3                   6.1                  \n",
      "9   6.4                   5.9                  \n",
      "10  6.4                   5.7                  \n",
      "11  6.4                   5.5                  \n"
     ]
    }
   ],
   "source": []
  },
  {
   "cell_type": "code",
   "execution_count": null,
   "id": "cd0cc3ec-9a64-497d-804c-3b16cdddb1f0",
   "metadata": {},
   "outputs": [],
   "source": []
  },
  {
   "cell_type": "code",
   "execution_count": null,
   "id": "824fa193-7711-4659-81df-fd1ee305267a",
   "metadata": {},
   "outputs": [],
   "source": []
  }
 ],
 "metadata": {
  "kernelspec": {
   "display_name": "Python 3 (ipykernel)",
   "language": "python",
   "name": "python3"
  },
  "language_info": {
   "codemirror_mode": {
    "name": "ipython",
    "version": 3
   },
   "file_extension": ".py",
   "mimetype": "text/x-python",
   "name": "python",
   "nbconvert_exporter": "python",
   "pygments_lexer": "ipython3",
   "version": "3.12.7"
  }
 },
 "nbformat": 4,
 "nbformat_minor": 5
}
