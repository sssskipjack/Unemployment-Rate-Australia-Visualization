{
 "cells": [
  {
   "cell_type": "code",
   "execution_count": 25,
   "id": "0e82c9ba-562a-40b6-9538-8f890d90f88f",
   "metadata": {},
   "outputs": [
    {
     "name": "stdout",
     "output_type": "stream",
     "text": [
      "        Date NSW Unemployment Rate VIC Unemployment Rate  \\\n",
      "7   Feb-1978                   6.6                   5.7   \n",
      "8   Mar-1978                   6.5                   5.7   \n",
      "9   Apr-1978                   6.4                   5.6   \n",
      "10  May-1978                   6.3                   5.6   \n",
      "11  Jun-1978                   6.3                   5.5   \n",
      "\n",
      "   QLD Unemployment Rate SA Unemployment Rate WA Unemployment Rate  \\\n",
      "7                    7.1                  6.5                  6.2   \n",
      "8                    7.1                  6.5                  6.2   \n",
      "9                    7.1                  6.6                  6.3   \n",
      "10                   7.1                  6.7                  6.4   \n",
      "11                   7.1                  6.9                  6.5   \n",
      "\n",
      "   TAS Unemployment Rate NT Unemployment Rate  \n",
      "7                    6.3                  6.4  \n",
      "8                    6.3                  6.1  \n",
      "9                    6.4                  5.9  \n",
      "10                   6.4                  5.7  \n",
      "11                   6.4                  5.5  \n"
     ]
    }
   ],
   "source": [
    "import pandas as pd\n",
    "\n",
    "def clean_unemployment_data(file_path):\n",
    "    df = pd.read_csv(file_path)\n",
    "    \n",
    "    state_list = ['New South Wales', 'Victoria', 'Queensland', 'South Australia', \n",
    "                  'Western Australia', 'Tasmania', 'Northern Territory']\n",
    "    \n",
    "    selected_cols = ['Unnamed: 0']  #Date column\n",
    "    for state in state_list:\n",
    "        for col in df.columns:\n",
    "            if f'Unemployment rate ;  Persons ;  > {state} ;' in col and '.1' not in col and '.2' not in col:\n",
    "                selected_cols.append(col)\n",
    "    \n",
    "    df_selected = df[selected_cols]\n",
    "    \n",
    "    df_selected.columns = ['Date', 'NSW Unemployment Rate', 'VIC Unemployment Rate', \n",
    "                           'QLD Unemployment Rate', 'SA Unemployment Rate', \n",
    "                           'WA Unemployment Rate', 'TAS Unemployment Rate', \n",
    "                           'NT Unemployment Rate']\n",
    "\n",
    "    # Remove rows with specific keywords\n",
    "    rows_to_remove = ['Unit', 'Series Type', 'Data Type', 'Series Start', \n",
    "                      'Series End', 'No. Obs', 'Series ID']\n",
    "    df_cleaned = df_selected[~df_selected['Date'].isin(rows_to_remove)]\n",
    "    \n",
    "    # Remove any duplicate or redundant rows\n",
    "    df_cleaned = df_cleaned.drop_duplicates()\n",
    "\n",
    "    return df_cleaned\n",
    "\n",
    "file_path = 'data/unemploymentRateTimeSeries.csv' \n",
    "cleaned_data = clean_unemployment_data(file_path)\n",
    "\n",
    "# save\n",
    "cleaned_data.to_csv('data/cleaned_unemployment_data.csv', index=False)\n",
    "\n",
    "print(cleaned_data.head())\n"
   ]
  },
  {
   "cell_type": "code",
   "execution_count": null,
   "id": "07dd9075-c5e8-4b77-af4b-b0b5c58e32b2",
   "metadata": {},
   "outputs": [],
   "source": []
  },
  {
   "cell_type": "code",
   "execution_count": null,
   "id": "cd0cc3ec-9a64-497d-804c-3b16cdddb1f0",
   "metadata": {},
   "outputs": [],
   "source": []
  },
  {
   "cell_type": "code",
   "execution_count": null,
   "id": "824fa193-7711-4659-81df-fd1ee305267a",
   "metadata": {},
   "outputs": [],
   "source": []
  }
 ],
 "metadata": {
  "kernelspec": {
   "display_name": "Python 3 (ipykernel)",
   "language": "python",
   "name": "python3"
  },
  "language_info": {
   "codemirror_mode": {
    "name": "ipython",
    "version": 3
   },
   "file_extension": ".py",
   "mimetype": "text/x-python",
   "name": "python",
   "nbconvert_exporter": "python",
   "pygments_lexer": "ipython3",
   "version": "3.12.7"
  }
 },
 "nbformat": 4,
 "nbformat_minor": 5
}
